{
  "nbformat": 4,
  "nbformat_minor": 0,
  "metadata": {
    "colab": {
      "name": "CIFAR-10_3.ipynb",
      "version": "0.3.2",
      "provenance": [],
      "collapsed_sections": [],
      "include_colab_link": true
    },
    "kernelspec": {
      "name": "python3",
      "display_name": "Python 3"
    },
    "accelerator": "GPU"
  },
  "cells": [
    {
      "cell_type": "markdown",
      "metadata": {
        "id": "view-in-github",
        "colab_type": "text"
      },
      "source": [
        "[View in Colaboratory](https://colab.research.google.com/github/raahatg21/CIFAR-10-Dataset-with-Keras/blob/master/CIFAR_10_3.ipynb)"
      ]
    },
    {
      "metadata": {
        "id": "pOSd1a5TZQ2j",
        "colab_type": "text"
      },
      "cell_type": "markdown",
      "source": [
        "# CIFAR-10 Dataset: Object Classification"
      ]
    },
    {
      "metadata": {
        "id": "YOsxSWtRZWic",
        "colab_type": "text"
      },
      "cell_type": "markdown",
      "source": [
        "**Using ConvNets, Batch Normalization, Data Augmentation. 84.47% Validation Accuracy. 83.92% Testing Accuracy.**"
      ]
    },
    {
      "metadata": {
        "id": "JWKokRR3W5FV",
        "colab_type": "code",
        "colab": {}
      },
      "cell_type": "code",
      "source": [
        "import numpy as np\n",
        "import matplotlib.pyplot as plt"
      ],
      "execution_count": 0,
      "outputs": []
    },
    {
      "metadata": {
        "id": "YduevrbqZl5w",
        "colab_type": "code",
        "colab": {
          "base_uri": "https://localhost:8080/",
          "height": 34
        },
        "outputId": "5011a94b-6897-4935-941b-962055ecb517"
      },
      "cell_type": "code",
      "source": [
        "from keras import models\n",
        "from keras import layers\n",
        "from keras.datasets import cifar10\n",
        "from keras.utils import to_categorical\n",
        "from keras.callbacks import ReduceLROnPlateau\n",
        "from keras.preprocessing.image import ImageDataGenerator"
      ],
      "execution_count": 2,
      "outputs": [
        {
          "output_type": "stream",
          "text": [
            "Using TensorFlow backend.\n"
          ],
          "name": "stderr"
        }
      ]
    },
    {
      "metadata": {
        "id": "e2MFq8PuaIfg",
        "colab_type": "code",
        "colab": {}
      },
      "cell_type": "code",
      "source": [
        "(X_train, y_train), (X_test, y_test) = cifar10.load_data()"
      ],
      "execution_count": 0,
      "outputs": []
    },
    {
      "metadata": {
        "id": "QArduxe9aN6Z",
        "colab_type": "code",
        "colab": {
          "base_uri": "https://localhost:8080/",
          "height": 34
        },
        "outputId": "c9b39038-84c5-436b-d4b2-5e257f498759"
      },
      "cell_type": "code",
      "source": [
        "# Preprocessing the data\n",
        "\n",
        "X_train.shape, X_test.shape"
      ],
      "execution_count": 4,
      "outputs": [
        {
          "output_type": "execute_result",
          "data": {
            "text/plain": [
              "((50000, 32, 32, 3), (10000, 32, 32, 3))"
            ]
          },
          "metadata": {
            "tags": []
          },
          "execution_count": 4
        }
      ]
    },
    {
      "metadata": {
        "id": "6v26y9PuaSZc",
        "colab_type": "code",
        "colab": {}
      },
      "cell_type": "code",
      "source": [
        "X_train = X_train.astype('float32')\n",
        "X_train /= 255\n",
        "X_test = X_test.astype('float32')\n",
        "X_test /= 255"
      ],
      "execution_count": 0,
      "outputs": []
    },
    {
      "metadata": {
        "id": "zAsPMdEiaUo3",
        "colab_type": "code",
        "colab": {
          "base_uri": "https://localhost:8080/",
          "height": 34
        },
        "outputId": "9e02eb5e-8de3-4224-b5f5-ae933e45b7ed"
      },
      "cell_type": "code",
      "source": [
        "X_train.shape, X_test.shape"
      ],
      "execution_count": 6,
      "outputs": [
        {
          "output_type": "execute_result",
          "data": {
            "text/plain": [
              "((50000, 32, 32, 3), (10000, 32, 32, 3))"
            ]
          },
          "metadata": {
            "tags": []
          },
          "execution_count": 6
        }
      ]
    },
    {
      "metadata": {
        "id": "SK4GZuNgaW_6",
        "colab_type": "code",
        "colab": {
          "base_uri": "https://localhost:8080/",
          "height": 34
        },
        "outputId": "ef54924d-b486-4086-a25c-1c57356bced3"
      },
      "cell_type": "code",
      "source": [
        "# Preprocessing the Labels\n",
        "\n",
        "y_train.shape, y_test.shape"
      ],
      "execution_count": 7,
      "outputs": [
        {
          "output_type": "execute_result",
          "data": {
            "text/plain": [
              "((50000, 1), (10000, 1))"
            ]
          },
          "metadata": {
            "tags": []
          },
          "execution_count": 7
        }
      ]
    },
    {
      "metadata": {
        "id": "6G22QPsNabPe",
        "colab_type": "code",
        "colab": {}
      },
      "cell_type": "code",
      "source": [
        "y_train = to_categorical(y_train, num_classes = 10)\n",
        "y_test = to_categorical(y_test, num_classes = 10)"
      ],
      "execution_count": 0,
      "outputs": []
    },
    {
      "metadata": {
        "id": "fvXIoLMGado1",
        "colab_type": "code",
        "colab": {
          "base_uri": "https://localhost:8080/",
          "height": 34
        },
        "outputId": "1c4cdb30-a657-4a43-976e-4b2d0c53c0ea"
      },
      "cell_type": "code",
      "source": [
        "y_train.shape, y_test.shape"
      ],
      "execution_count": 9,
      "outputs": [
        {
          "output_type": "execute_result",
          "data": {
            "text/plain": [
              "((50000, 10), (10000, 10))"
            ]
          },
          "metadata": {
            "tags": []
          },
          "execution_count": 9
        }
      ]
    },
    {
      "metadata": {
        "id": "mfbjdExuafqo",
        "colab_type": "code",
        "colab": {}
      },
      "cell_type": "code",
      "source": [
        "# Spiltting training and validation sets\n",
        "\n",
        "X_val = X_train[:10000]\n",
        "y_val = y_train[:10000]\n",
        "\n",
        "X_train = X_train[10000:]\n",
        "y_train = y_train[10000:]"
      ],
      "execution_count": 0,
      "outputs": []
    },
    {
      "metadata": {
        "id": "x8knlqnvamB5",
        "colab_type": "code",
        "colab": {
          "base_uri": "https://localhost:8080/",
          "height": 34
        },
        "outputId": "d1decec2-d408-4cf8-94af-d28aa0b1bba0"
      },
      "cell_type": "code",
      "source": [
        "X_train.shape, y_train.shape, X_val.shape, y_val.shape"
      ],
      "execution_count": 11,
      "outputs": [
        {
          "output_type": "execute_result",
          "data": {
            "text/plain": [
              "((40000, 32, 32, 3), (40000, 10), (10000, 32, 32, 3), (10000, 10))"
            ]
          },
          "metadata": {
            "tags": []
          },
          "execution_count": 11
        }
      ]
    },
    {
      "metadata": {
        "id": "odXuNGaDr3rU",
        "colab_type": "code",
        "colab": {}
      },
      "cell_type": "code",
      "source": [
        "# Data Augmentation\n",
        "\n",
        "datagen = ImageDataGenerator(rotation_range = 10, width_shift_range = 0.1, height_shift_range = 0.1, shear_range = 0.1, zoom_range = 0.1, horizontal_flip = True, fill_mode = 'nearest')\n",
        "datagen.fit(X_train)"
      ],
      "execution_count": 0,
      "outputs": []
    },
    {
      "metadata": {
        "id": "a90RwXwoa10f",
        "colab_type": "code",
        "colab": {}
      },
      "cell_type": "code",
      "source": [
        "# Building the model\n",
        "\n",
        "model = models.Sequential()\n",
        "\n",
        "model.add(layers.Conv2D(32, (3, 3), activation = 'relu', padding = 'same', input_shape = (32, 32, 3)))\n",
        "model.add(layers.BatchNormalization())\n",
        "model.add(layers.Dropout(0.25))\n",
        "model.add(layers.Conv2D(32, (3, 3), activation = 'relu', padding = 'same'))\n",
        "model.add(layers.BatchNormalization())\n",
        "model.add(layers.MaxPooling2D(2, 2))\n",
        "\n",
        "model.add(layers.Conv2D(64, (3, 3), activation = 'relu', padding = 'same'))\n",
        "model.add(layers.BatchNormalization())\n",
        "model.add(layers.Dropout(0.25))\n",
        "model.add(layers.Conv2D(64, (3, 3), activation = 'relu', padding = 'same'))\n",
        "model.add(layers.BatchNormalization())\n",
        "model.add(layers.MaxPooling2D(2, 2))\n",
        "\n",
        "model.add(layers.Conv2D(128, (3, 3), activation = 'relu', padding = 'same'))\n",
        "model.add(layers.BatchNormalization())\n",
        "model.add(layers.Dropout(0.25))\n",
        "model.add(layers.Conv2D(128, (3, 3), activation = 'relu', padding = 'same'))\n",
        "model.add(layers.BatchNormalization())\n",
        "model.add(layers.MaxPooling2D(2, 2))\n",
        "\n",
        "model.add(layers.Flatten())\n",
        "model.add(layers.Dense(256, activation = 'relu'))\n",
        "model.add(layers.BatchNormalization())\n",
        "model.add(layers.Dropout(0.5))\n",
        "model.add(layers.Dense(10, activation = 'softmax'))"
      ],
      "execution_count": 0,
      "outputs": []
    },
    {
      "metadata": {
        "id": "YuZEtkrAcOHl",
        "colab_type": "code",
        "colab": {
          "base_uri": "https://localhost:8080/",
          "height": 937
        },
        "outputId": "cfc96098-f8ca-45a7-e8a0-a6c12a9d9a84"
      },
      "cell_type": "code",
      "source": [
        "model.summary()"
      ],
      "execution_count": 14,
      "outputs": [
        {
          "output_type": "stream",
          "text": [
            "_________________________________________________________________\n",
            "Layer (type)                 Output Shape              Param #   \n",
            "=================================================================\n",
            "conv2d_1 (Conv2D)            (None, 32, 32, 32)        896       \n",
            "_________________________________________________________________\n",
            "batch_normalization_1 (Batch (None, 32, 32, 32)        128       \n",
            "_________________________________________________________________\n",
            "dropout_1 (Dropout)          (None, 32, 32, 32)        0         \n",
            "_________________________________________________________________\n",
            "conv2d_2 (Conv2D)            (None, 32, 32, 32)        9248      \n",
            "_________________________________________________________________\n",
            "batch_normalization_2 (Batch (None, 32, 32, 32)        128       \n",
            "_________________________________________________________________\n",
            "max_pooling2d_1 (MaxPooling2 (None, 16, 16, 32)        0         \n",
            "_________________________________________________________________\n",
            "conv2d_3 (Conv2D)            (None, 16, 16, 64)        18496     \n",
            "_________________________________________________________________\n",
            "batch_normalization_3 (Batch (None, 16, 16, 64)        256       \n",
            "_________________________________________________________________\n",
            "dropout_2 (Dropout)          (None, 16, 16, 64)        0         \n",
            "_________________________________________________________________\n",
            "conv2d_4 (Conv2D)            (None, 16, 16, 64)        36928     \n",
            "_________________________________________________________________\n",
            "batch_normalization_4 (Batch (None, 16, 16, 64)        256       \n",
            "_________________________________________________________________\n",
            "max_pooling2d_2 (MaxPooling2 (None, 8, 8, 64)          0         \n",
            "_________________________________________________________________\n",
            "conv2d_5 (Conv2D)            (None, 8, 8, 128)         73856     \n",
            "_________________________________________________________________\n",
            "batch_normalization_5 (Batch (None, 8, 8, 128)         512       \n",
            "_________________________________________________________________\n",
            "dropout_3 (Dropout)          (None, 8, 8, 128)         0         \n",
            "_________________________________________________________________\n",
            "conv2d_6 (Conv2D)            (None, 8, 8, 128)         147584    \n",
            "_________________________________________________________________\n",
            "batch_normalization_6 (Batch (None, 8, 8, 128)         512       \n",
            "_________________________________________________________________\n",
            "max_pooling2d_3 (MaxPooling2 (None, 4, 4, 128)         0         \n",
            "_________________________________________________________________\n",
            "flatten_1 (Flatten)          (None, 2048)              0         \n",
            "_________________________________________________________________\n",
            "dense_1 (Dense)              (None, 256)               524544    \n",
            "_________________________________________________________________\n",
            "batch_normalization_7 (Batch (None, 256)               1024      \n",
            "_________________________________________________________________\n",
            "dropout_4 (Dropout)          (None, 256)               0         \n",
            "_________________________________________________________________\n",
            "dense_2 (Dense)              (None, 10)                2570      \n",
            "=================================================================\n",
            "Total params: 816,938\n",
            "Trainable params: 815,530\n",
            "Non-trainable params: 1,408\n",
            "_________________________________________________________________\n"
          ],
          "name": "stdout"
        }
      ]
    },
    {
      "metadata": {
        "id": "JxfGrFSHcZFh",
        "colab_type": "code",
        "colab": {}
      },
      "cell_type": "code",
      "source": [
        "# Compiling the Model\n",
        "\n",
        "model.compile(optimizer = 'rmsprop', loss = 'categorical_crossentropy', metrics = ['accuracy'])"
      ],
      "execution_count": 0,
      "outputs": []
    },
    {
      "metadata": {
        "id": "khyCw9u_cr2C",
        "colab_type": "code",
        "colab": {}
      },
      "cell_type": "code",
      "source": [
        "# Creating the Callback\n",
        "\n",
        "callback = [ReduceLROnPlateau(monitor = 'val_loss', patience = 2, factor = 0.1, min_lr = 0.001)]"
      ],
      "execution_count": 0,
      "outputs": []
    },
    {
      "metadata": {
        "id": "HdJyq58wdBei",
        "colab_type": "code",
        "colab": {
          "base_uri": "https://localhost:8080/",
          "height": 573
        },
        "outputId": "56ddf927-918c-43ec-c3e2-d0650c0f94b3"
      },
      "cell_type": "code",
      "source": [
        "# Training\n",
        "\n",
        "history = model.fit_generator(datagen.flow(X_train, y_train, batch_size = 20), steps_per_epoch = 2000, epochs = 16, validation_data = (X_val, y_val), validation_steps = 500, callbacks = callback)"
      ],
      "execution_count": 17,
      "outputs": [
        {
          "output_type": "stream",
          "text": [
            "Epoch 1/16\n",
            "2000/2000 [==============================] - 76s 38ms/step - loss: 1.7338 - acc: 0.4041 - val_loss: 1.1543 - val_acc: 0.5851\n",
            "Epoch 2/16\n",
            "2000/2000 [==============================] - 74s 37ms/step - loss: 1.1863 - acc: 0.5842 - val_loss: 0.9750 - val_acc: 0.6696\n",
            "Epoch 3/16\n",
            "2000/2000 [==============================] - 73s 37ms/step - loss: 1.0230 - acc: 0.6449 - val_loss: 0.7797 - val_acc: 0.7254\n",
            "Epoch 4/16\n",
            "2000/2000 [==============================] - 73s 37ms/step - loss: 0.9294 - acc: 0.6796 - val_loss: 0.8361 - val_acc: 0.7155\n",
            "Epoch 5/16\n",
            "2000/2000 [==============================] - 73s 37ms/step - loss: 0.8747 - acc: 0.7009 - val_loss: 0.7490 - val_acc: 0.7458\n",
            "Epoch 6/16\n",
            "2000/2000 [==============================] - 73s 36ms/step - loss: 0.8183 - acc: 0.7212 - val_loss: 0.7497 - val_acc: 0.7423\n",
            "Epoch 7/16\n",
            "2000/2000 [==============================] - 73s 36ms/step - loss: 0.7798 - acc: 0.7361 - val_loss: 0.6987 - val_acc: 0.7624\n",
            "Epoch 8/16\n",
            "2000/2000 [==============================] - 73s 36ms/step - loss: 0.7526 - acc: 0.7423 - val_loss: 0.6343 - val_acc: 0.7875\n",
            "Epoch 9/16\n",
            "2000/2000 [==============================] - 73s 37ms/step - loss: 0.7283 - acc: 0.7525 - val_loss: 0.6376 - val_acc: 0.7860\n",
            "Epoch 10/16\n",
            "2000/2000 [==============================] - 74s 37ms/step - loss: 0.6960 - acc: 0.7650 - val_loss: 0.6810 - val_acc: 0.7789\n",
            "Epoch 11/16\n",
            "2000/2000 [==============================] - 73s 36ms/step - loss: 0.6804 - acc: 0.7726 - val_loss: 0.5313 - val_acc: 0.8185\n",
            "Epoch 12/16\n",
            "2000/2000 [==============================] - 73s 36ms/step - loss: 0.6713 - acc: 0.7746 - val_loss: 0.5408 - val_acc: 0.8145\n",
            "Epoch 13/16\n",
            "2000/2000 [==============================] - 73s 36ms/step - loss: 0.6484 - acc: 0.7811 - val_loss: 0.5391 - val_acc: 0.8177\n",
            "Epoch 14/16\n",
            "2000/2000 [==============================] - 73s 36ms/step - loss: 0.6422 - acc: 0.7830 - val_loss: 0.5418 - val_acc: 0.8172\n",
            "Epoch 15/16\n",
            "2000/2000 [==============================] - 73s 36ms/step - loss: 0.6223 - acc: 0.7915 - val_loss: 0.5979 - val_acc: 0.7974\n",
            "Epoch 16/16\n",
            "2000/2000 [==============================] - 72s 36ms/step - loss: 0.6145 - acc: 0.7944 - val_loss: 0.4622 - val_acc: 0.8447\n"
          ],
          "name": "stdout"
        }
      ]
    },
    {
      "metadata": {
        "id": "iRJTxLuWdNKu",
        "colab_type": "code",
        "colab": {}
      },
      "cell_type": "code",
      "source": [
        "acc = history.history['acc']\n",
        "val_acc = history.history['val_acc']\n",
        "loss = history.history['loss']\n",
        "val_loss = history.history['val_loss']"
      ],
      "execution_count": 0,
      "outputs": []
    },
    {
      "metadata": {
        "id": "gKCB_pVZdUgd",
        "colab_type": "code",
        "colab": {
          "base_uri": "https://localhost:8080/",
          "height": 362
        },
        "outputId": "b380e51c-08ed-4822-9711-04b7528d552d"
      },
      "cell_type": "code",
      "source": [
        "epochs = range(1, len(acc) + 1)\n",
        "\n",
        "plt.plot(epochs, loss, 'co', label='Training loss')\n",
        "plt.plot(epochs, val_loss, 'c', label='Validation loss')\n",
        "plt.title('Training and validation loss')\n",
        "plt.legend()\n",
        "plt.show()"
      ],
      "execution_count": 19,
      "outputs": [
        {
          "output_type": "display_data",
          "data": {
            "image/png": "[encoded data removed]",
            "text/plain": [
              "<matplotlib.figure.Figure at 0x7f3cb89df358>"
            ]
          },
          "metadata": {
            "tags": []
          }
        }
      ]
    },
    {
      "metadata": {
        "id": "XXuh-S5fdXgM",
        "colab_type": "code",
        "colab": {
          "base_uri": "https://localhost:8080/",
          "height": 362
        },
        "outputId": "44058c4f-a8cf-4307-e194-7c5d37973413"
      },
      "cell_type": "code",
      "source": [
        "plt.plot(epochs, acc, 'bo', label='Training acc')\n",
        "plt.plot(epochs, val_acc, 'b', label='Validation acc')\n",
        "plt.title('Training and validation accuracy')\n",
        "plt.legend()\n",
        "plt.show()"
      ],
      "execution_count": 20,
      "outputs": [
        {
          "output_type": "display_data",
          "data": {
            "image/png": "[encoded data removed]",
            "text/plain": [
              "<matplotlib.figure.Figure at 0x7f3cb89df7b8>"
            ]
          },
          "metadata": {
            "tags": []
          }
        }
      ]
    },
    {
      "metadata": {
        "id": "hKBoW-bjda43",
        "colab_type": "code",
        "colab": {
          "base_uri": "https://localhost:8080/",
          "height": 52
        },
        "outputId": "52ed6c26-b754-46cf-db59-cdc193fa40c4"
      },
      "cell_type": "code",
      "source": [
        "# Testing\n",
        "\n",
        "test_loss, test_acc = model.evaluate(X_test, y_test)\n",
        "test_loss, test_acc"
      ],
      "execution_count": 21,
      "outputs": [
        {
          "output_type": "stream",
          "text": [
            "10000/10000 [==============================] - 4s 369us/step\n"
          ],
          "name": "stdout"
        },
        {
          "output_type": "execute_result",
          "data": {
            "text/plain": [
              "(0.47667439670562745, 0.8392)"
            ]
          },
          "metadata": {
            "tags": []
          },
          "execution_count": 21
        }
      ]
    },
    {
      "metadata": {
        "id": "jK8iAMSKgGsm",
        "colab_type": "code",
        "colab": {}
      },
      "cell_type": "code",
      "source": [
        ""
      ],
      "execution_count": 0,
      "outputs": []
    }
  ]
}
